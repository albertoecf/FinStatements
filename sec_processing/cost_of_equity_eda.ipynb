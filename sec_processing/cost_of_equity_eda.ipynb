{
 "cells": [
  {
   "cell_type": "code",
   "id": "initial_id",
   "metadata": {
    "collapsed": true,
    "ExecuteTime": {
     "end_time": "2025-07-14T10:32:32.794126Z",
     "start_time": "2025-07-14T10:32:32.791412Z"
    }
   },
   "source": "# Cost of equity = Rf + B ( Rm - Rf)",
   "outputs": [],
   "execution_count": 1
  },
  {
   "metadata": {
    "ExecuteTime": {
     "end_time": "2025-07-14T10:32:57.173975Z",
     "start_time": "2025-07-14T10:32:55.972953Z"
    }
   },
   "cell_type": "code",
   "source": [
    "import yfinance as yf\n",
    "\n",
    "# Treasury Yield 10 Years -> TNX\n",
    "ten_year = yf.Ticker(\"^TNX\")\n",
    "rf = ten_year.history(period=\"1d\")[\"Close\"].iloc[-1] / 100  # divide entre 100 para usarlo como decimal\n",
    "print(f\"Risk Free Rate: {rf:.4%}\")\n"
   ],
   "id": "2ddb2e924fecad33",
   "outputs": [
    {
     "name": "stdout",
     "output_type": "stream",
     "text": [
      "Risk Free Rate: 4.4230%\n"
     ]
    }
   ],
   "execution_count": 2
  },
  {
   "metadata": {
    "ExecuteTime": {
     "end_time": "2025-07-14T10:33:52.622166Z",
     "start_time": "2025-07-14T10:33:52.330333Z"
    }
   },
   "cell_type": "code",
   "source": [
    "ticker = \"MSFT\"\n",
    "stock = yf.Ticker(ticker)\n",
    "beta = stock.info[\"beta\"]\n",
    "print(f\"Beta of {ticker}: {beta}\")\n"
   ],
   "id": "83ffba3cafb232c0",
   "outputs": [
    {
     "name": "stdout",
     "output_type": "stream",
     "text": [
      "Beta of MSFT: 1.026\n"
     ]
    }
   ],
   "execution_count": 3
  },
  {
   "metadata": {
    "ExecuteTime": {
     "end_time": "2025-07-14T10:34:23.219949Z",
     "start_time": "2025-07-14T10:34:23.009383Z"
    }
   },
   "cell_type": "code",
   "source": [
    "sp500 = yf.Ticker(\"^GSPC\")\n",
    "hist = sp500.history(period=\"10y\", interval=\"1mo\")\n",
    "hist[\"returns\"] = hist[\"Close\"].pct_change()\n",
    "Rm = hist[\"returns\"].mean() * 12  # anualizado\n",
    "print(f\"Estimated Market Return: {Rm:.2%}\")\n"
   ],
   "id": "de009ebf5e8dd0eb",
   "outputs": [
    {
     "name": "stdout",
     "output_type": "stream",
     "text": [
      "Estimated Market Return: 12.88%\n"
     ]
    }
   ],
   "execution_count": 4
  },
  {
   "metadata": {
    "ExecuteTime": {
     "end_time": "2025-07-14T10:36:30.397540Z",
     "start_time": "2025-07-14T10:36:30.383306Z"
    }
   },
   "cell_type": "code",
   "source": [
    "# Rf + B ( Rm - Rf)\n",
    "cost_of_equity = rf + beta * (Rm - rf)\n",
    "print(cost_of_equity)"
   ],
   "id": "2fef28705a75a722",
   "outputs": [
    {
     "name": "stdout",
     "output_type": "stream",
     "text": [
      "0.13101062467355584\n"
     ]
    }
   ],
   "execution_count": 6
  },
  {
   "metadata": {
    "ExecuteTime": {
     "end_time": "2025-07-14T13:23:38.562972Z",
     "start_time": "2025-07-14T13:23:37.614814Z"
    }
   },
   "cell_type": "code",
   "source": [
    "import yfinance as yf\n",
    "from typing import Union\n",
    "import settings\n",
    "from datetime import datetime\n",
    "import os\n",
    "import pickle\n",
    "\n",
    "\n",
    "def get_risk_free_rate() -> float:\n",
    "    \"\"\"\n",
    "    Retrieves the current 10-year US Treasury yield as risk-free rate,\n",
    "    using a daily local cache to avoid unnecessary API calls.\n",
    "\n",
    "    Returns:\n",
    "        float: Risk-free rate as decimal (e.g. 0.045 for 4.5%)\n",
    "    \"\"\"\n",
    "    cache_file = \"rf_cache.pkl\"\n",
    "    today = datetime.now().strftime(\"%Y-%m-%d\")\n",
    "\n",
    "    if os.path.exists(cache_file):\n",
    "        with open(cache_file, \"rb\") as f:\n",
    "            cache = pickle.load(f)\n",
    "            if cache.get(\"date\") == today:\n",
    "                settings.logger.info(f\"[Risk-Free Rate] Using cached value for {today}: {cache['rf']:.4%}\")\n",
    "                return cache[\"rf\"]\n",
    "\n",
    "    settings.logger.info(f\"[Risk-Free Rate] Fetching new value from Yahoo Finance for {today}\")\n",
    "    ten_year = yf.Ticker(\"^TNX\")\n",
    "    rf = ten_year.history(period=\"1d\")[\"Close\"].iloc[-1] / 100\n",
    "\n",
    "    with open(cache_file, \"wb\") as f:\n",
    "        pickle.dump({\"date\": today, \"rf\": rf}, f)\n",
    "\n",
    "    settings.logger.info(f\"[Risk-Free Rate] Fetched and cached new value: {rf:.4%}\")\n",
    "    return rf\n",
    "\n",
    "\n",
    "def get_beta(ticker: str) -> Union[float, None]:\n",
    "    \"\"\"\n",
    "    Fetches the beta value for a given ticker.\n",
    "\n",
    "    Args:\n",
    "        ticker (str): Stock ticker symbol.\n",
    "\n",
    "    Returns:\n",
    "        float: Beta value if available, else None.\n",
    "    \"\"\"\n",
    "    stock = yf.Ticker(ticker)\n",
    "    beta = stock.info.get(\"beta\", None)\n",
    "    return beta\n",
    "\n",
    "\n",
    "def get_market_return(years: int = 10) -> float:\n",
    "    \"\"\"\n",
    "    Estimates the market return using historical S&P500 returns.\n",
    "\n",
    "    Args:\n",
    "        years (int): Number of years to look back.\n",
    "\n",
    "    Returns:\n",
    "        float: Estimated annualized market return as decimal.\n",
    "    \"\"\"\n",
    "    sp500 = yf.Ticker(\"^GSPC\")\n",
    "    hist = sp500.history(period=f\"{years}y\", interval=\"1mo\")\n",
    "    hist[\"returns\"] = hist[\"Close\"].pct_change()\n",
    "    Rm = hist[\"returns\"].mean() * 12  # Annualize monthly returns\n",
    "    return Rm\n",
    "\n",
    "\n",
    "def get_cost_of_equity(ticker: str) -> float:\n",
    "    \"\"\"\n",
    "    Calculates the cost of equity using CAPM formula:\n",
    "        cost_of_equity = Rf + Beta * (Rm - Rf)\n",
    "\n",
    "    Args:\n",
    "        ticker (str): Stock ticker symbol.\n",
    "\n",
    "    Returns:\n",
    "        float: Cost of equity as a decimal (e.g., 0.08 for 8%)\n",
    "    \"\"\"\n",
    "    rf = get_risk_free_rate()\n",
    "    beta = get_beta(ticker)\n",
    "    Rm = get_market_return()\n",
    "\n",
    "    if beta is None:\n",
    "        raise ValueError(f\"Beta not available for ticker: {ticker}\")\n",
    "\n",
    "    cost_of_equity = rf + beta * (Rm - rf)\n",
    "    return cost_of_equity\n",
    "\n",
    "\n",
    "if __name__ == \"__main__\":\n",
    "    ticker_input = \"MSFT\"\n",
    "    coe = get_cost_of_equity(ticker_input)\n",
    "    print(f\"Cost of Equity for {ticker_input}: {coe:.2%}\")\n"
   ],
   "id": "3c90acc707957e85",
   "outputs": [
    {
     "name": "stdout",
     "output_type": "stream",
     "text": [
      "13:23:37.633 [Risk-Free Rate] Fetching new value from Yahoo Finance for 2025-07-14\n",
      "13:23:38.092 [Risk-Free Rate] Fetched and cached new value: 4.4350%\n",
      "Cost of Equity for MSFT: 13.10%\n"
     ]
    }
   ],
   "execution_count": 9
  },
  {
   "metadata": {},
   "cell_type": "code",
   "outputs": [],
   "execution_count": null,
   "source": "",
   "id": "4164705d5f405bd1"
  }
 ],
 "metadata": {
  "kernelspec": {
   "display_name": "Python 3",
   "language": "python",
   "name": "python3"
  },
  "language_info": {
   "codemirror_mode": {
    "name": "ipython",
    "version": 2
   },
   "file_extension": ".py",
   "mimetype": "text/x-python",
   "name": "python",
   "nbconvert_exporter": "python",
   "pygments_lexer": "ipython2",
   "version": "2.7.6"
  }
 },
 "nbformat": 4,
 "nbformat_minor": 5
}
