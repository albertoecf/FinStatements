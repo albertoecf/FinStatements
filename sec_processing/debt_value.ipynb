{
 "cells": [
  {
   "metadata": {
    "ExecuteTime": {
     "end_time": "2025-07-11T14:17:58.528971Z",
     "start_time": "2025-07-11T14:17:58.520978Z"
    }
   },
   "cell_type": "code",
   "source": [
    "from sec_processing.utils import *\n",
    "\n",
    "def main(ticker: str, report_type: str) -> pd.DataFrame:\n",
    "    \"\"\"Given a ticker and valid report type, this function returns the report for the latest period\"\"\"\n",
    "    ticker = ticker.upper()\n",
    "    report_type = report_type.lower()\n",
    "\n",
    "    valid_report_types = [\"balance_sheet\", \"income_statement\", \"cash_flow_statement\"]\n",
    "    if report_type not in valid_report_types:\n",
    "        raise ValueError(f\"{report_type} is not a valid report type\")\n",
    "\n",
    "    try:\n",
    "        acc = get_filtered_filings(ticker, form_type=\"10-Q\", just_accession_numbers=True)\n",
    "        acc_num = acc.iloc[0].replace('-', '')\n",
    "    except IndexError:\n",
    "        raise ValueError(f\"There was a problem getting filings for {ticker}\")\n",
    "\n",
    "    statement = process_one_statement(ticker, acc_num, report_type)\n",
    "    label_dict = get_label_dictionary(ticker, headers)\n",
    "    statement_df = rename_statement(statement, label_dict)\n",
    "    print(statement_df)\n",
    "    return statement_df"
   ],
   "id": "515d5c40f2298c63",
   "outputs": [],
   "execution_count": 9
  },
  {
   "metadata": {
    "ExecuteTime": {
     "end_time": "2025-07-11T14:27:48.696442Z",
     "start_time": "2025-07-11T14:27:48.678469Z"
    }
   },
   "cell_type": "code",
   "source": [
    "ticker = \"GOOG\"\n",
    "report_type = \"income_statement\"\n",
    "df = main(ticker, report_type)\n",
    "\n",
    "# Extract EBT and Income Tax rows\n",
    "ebt = df.loc['Income (Loss) from Continuing Operations before Income Taxes, Noncontrolling Interest']\n",
    "tax_expense = df.loc['Income Tax Expense (Benefit)']\n",
    "\n",
    "# Calculate Effective Tax Rate\n",
    "tc = tax_expense / ebt\n",
    "\n",
    "# Optional: handle negative EBT to avoid nonsensical negative tax rates\n",
    "tc_clean = tc.apply(lambda x: max(0, x))\n",
    "\n",
    "print(\"Effective Tax Rate (Tc) per report date:\")\n",
    "print(tc_clean)\n"
   ],
   "id": "e38722e9f179325c",
   "outputs": [
    {
     "name": "stdout",
     "output_type": "stream",
     "text": [
      "Effective Tax Rate (Tc) per report date:\n",
      "2025-03-31    0.173467\n",
      "2024-03-31    0.164330\n",
      "dtype: float64\n"
     ]
    }
   ],
   "execution_count": 27
  }
 ],
 "metadata": {
  "kernelspec": {
   "display_name": "Python 3",
   "language": "python",
   "name": "python3"
  },
  "language_info": {
   "codemirror_mode": {
    "name": "ipython",
    "version": 2
   },
   "file_extension": ".py",
   "mimetype": "text/x-python",
   "name": "python",
   "nbconvert_exporter": "python",
   "pygments_lexer": "ipython2",
   "version": "2.7.6"
  }
 },
 "nbformat": 4,
 "nbformat_minor": 5
}
