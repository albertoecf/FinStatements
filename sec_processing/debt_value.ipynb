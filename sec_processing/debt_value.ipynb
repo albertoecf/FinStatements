{
 "cells": [
  {
   "metadata": {
    "ExecuteTime": {
     "end_time": "2025-07-11T15:23:37.322205Z",
     "start_time": "2025-07-11T15:23:37.315367Z"
    }
   },
   "cell_type": "code",
   "source": [
    "from sec_processing.utils import *\n",
    "import settings\n",
    "from typing import List, Dict"
   ],
   "id": "2aa0d5f138ba6207",
   "outputs": [],
   "execution_count": 75
  },
  {
   "metadata": {
    "ExecuteTime": {
     "end_time": "2025-07-11T15:25:13.348192Z",
     "start_time": "2025-07-11T15:25:13.337188Z"
    }
   },
   "cell_type": "code",
   "source": [
    "def fetch_report_to_df(ticker: str, report_type: str) -> pd.DataFrame:\n",
    "    \"\"\"Given a ticker and valid report type, this function returns the report for the latest period\"\"\"\n",
    "    ticker = ticker.upper()\n",
    "    report_type = report_type.lower()\n",
    "\n",
    "    valid_report_types = [\"balance_sheet\", \"income_statement\", \"cash_flow_statement\"]\n",
    "    if report_type not in valid_report_types:\n",
    "        raise ValueError(f\"{report_type} is not a valid report type\")\n",
    "\n",
    "    try:\n",
    "        acc = get_filtered_filings(ticker, form_type=\"10-Q\", just_accession_numbers=True)\n",
    "        acc_num = acc.iloc[0].replace('-', '')\n",
    "    except IndexError:\n",
    "        raise ValueError(f\"There was a problem getting filings for {ticker}\")\n",
    "\n",
    "    try:\n",
    "        statement = process_one_statement(ticker, acc_num, report_type)\n",
    "    except ValueError:\n",
    "        print(\"stop program\")\n",
    "        raise ValueError(f\"There was a problem getting filings for {ticker}\")\n",
    "\n",
    "    label_dict = get_label_dictionary(ticker, headers)\n",
    "    statement_df = rename_statement(statement, label_dict)\n",
    "    #settings.logger.debug(\"statement_df: {}\".format(statement_df))\n",
    "    return statement_df\n",
    "\n",
    "\n",
    "def extract_tax_rate(df_: pd.DataFrame) -> float:\n",
    "    ebt_ = df_.loc['Income (Loss) from Continuing Operations before Income Taxes, Noncontrolling Interest']\n",
    "    tax_expense_ = df_.loc['Income Tax Expense (Benefit)']\n",
    "    tx_raw_ = (tax_expense_ / ebt_)\n",
    "    tc_ = tx_raw_.apply(lambda x: max(0, x))\n",
    "    return tc_\n"
   ],
   "id": "515d5c40f2298c63",
   "outputs": [],
   "execution_count": 76
  },
  {
   "metadata": {},
   "cell_type": "code",
   "source": [
    "ticker = \"XOM\"\n",
    "report_type = \"income_statement\"\n",
    "df = fetch_report_to_df(ticker, report_type)\n",
    "\n",
    "# Extract EBT and Income Tax rows\n",
    "ebt = df.loc['Income (Loss) from Continuing Operations before Income Taxes, Noncontrolling Interest']\n",
    "tax_expense = df.loc['Income Tax Expense (Benefit)']\n",
    "\n",
    "# Calculate Effective Tax Rate\n",
    "tc = tax_expense / ebt\n",
    "\n",
    "# Optional: handle negative EBT to avoid nonsensical negative tax rates\n",
    "tc_clean = tc.apply(lambda x: max(0, x))\n",
    "\n",
    "print(\"Effective Tax Rate (Tc) per report date:\")\n",
    "print(tc_clean)\n"
   ],
   "id": "e38722e9f179325c",
   "outputs": [],
   "execution_count": null
  },
  {
   "metadata": {
    "ExecuteTime": {
     "end_time": "2025-07-11T15:33:26.662365Z",
     "start_time": "2025-07-11T15:33:26.651249Z"
    }
   },
   "cell_type": "code",
   "source": [
    "\n",
    "\n",
    "tickers_list = [\"AAPL\", \"MSFT\", \"JNJ\", \"JPM\", \"XOM\", \"PG\", \"NVDA\", \"UNH\", \"HD\", \"DIS\"]\n",
    "\n",
    "\n",
    "def workflow(tickers_: List[str]) -> list[Dict]:\n",
    "    data = []\n",
    "    report_type_w = \"income_statement\"\n",
    "    for ticker_ in tickers_:\n",
    "        current_ticker = ticker_  #tickers_list[ticker_]\n",
    "        try:\n",
    "            df_w = fetch_report_to_df(current_ticker, report_type_w)\n",
    "            tc_w = extract_tax_rate(df_w)\n",
    "            data.append({\"ticker\": current_ticker, \"tc\": tc_w})\n",
    "            settings.logger.info(f\"Processed {current_ticker}\")\n",
    "        except Exception as e:\n",
    "            settings.logger.error(f\"Error processing {current_ticker}: {e}\")\n",
    "\n",
    "    return data\n",
    "\n",
    "\n",
    "def convert_and_group(data_list):\n",
    "    # Initialize empty list to collect records\n",
    "    records = []\n",
    "\n",
    "    # Loop through each dictionary in the input list\n",
    "    for entry in data_list:\n",
    "        ticker = entry['ticker']\n",
    "        tc_series = entry['tc']\n",
    "\n",
    "        # Convert each series to dataframe and reset index for date-value structure\n",
    "        df = tc_series.reset_index()\n",
    "        df.columns = ['date', 'value']\n",
    "        df['ticker'] = ticker\n",
    "\n",
    "        # Append to records\n",
    "        records.append(df)\n",
    "\n",
    "    # Concatenate all records into one dataframe\n",
    "    final_df = pd.concat(records, ignore_index=True)\n",
    "\n",
    "    # Reorder columns\n",
    "    final_df = final_df[['ticker', 'date', 'value']]\n",
    "    # Group by ticker and calculate average\n",
    "    grouped_df = final_df.groupby('ticker')['value'].mean().reset_index()\n",
    "\n",
    "    return final_df, grouped_df\n",
    "\n"
   ],
   "id": "9e7dc3db81e097d6",
   "outputs": [],
   "execution_count": 89
  },
  {
   "metadata": {
    "ExecuteTime": {
     "end_time": "2025-07-11T15:35:44.768035Z",
     "start_time": "2025-07-11T15:35:29.954342Z"
    }
   },
   "cell_type": "code",
   "source": [
    "\n",
    "tickers = [\"MSFT\", \"JNJ\", \"HD\", \"GOOGL\", \"TSLA\", \"HD\", \"JNJ\"]\n",
    "tickers_tc = workflow(tickers)\n",
    "summarized_tc_df, stats_per_symbol = convert_and_group(tickers_tc)\n",
    "print(summarized_tc_df.sort_values(by=['value'], ascending=False))\n",
    "\n"
   ],
   "id": "94004d9f377b6a15",
   "outputs": [
    {
     "name": "stdout",
     "output_type": "stream",
     "text": [
      "15:35:34.188 Processed MSFT\n",
      "15:35:35.847 Processed JNJ\n",
      "15:35:37.671 Processed HD\n",
      "15:35:39.484 Processed GOOGL\n",
      "15:35:41.275 Processed TSLA\n",
      "15:35:43.015 Processed HD\n",
      "15:35:44.762 Processed JNJ\n",
      "[{'ticker': 'MSFT', 'tc': 2025-03-31    0.176977\n",
      "2024-03-31    0.179145\n",
      "2025-03-31    0.180330\n",
      "2024-03-31    0.179259\n",
      "dtype: float64}, {'ticker': 'JNJ', 'tc': 2025-03-30    0.193089\n",
      "2024-03-31    0.123586\n",
      "dtype: float64}, {'ticker': 'HD', 'tc': 2025-05-04    0.244166\n",
      "2024-04-28    0.225973\n",
      "dtype: float64}, {'ticker': 'GOOGL', 'tc': 2025-03-31    0.173467\n",
      "2024-03-31    0.164330\n",
      "dtype: float64}, {'ticker': 'TSLA', 'tc': 2025-03-31    0.286927\n",
      "2024-03-31    0.255826\n",
      "dtype: float64}, {'ticker': 'HD', 'tc': 2025-05-04    0.244166\n",
      "2024-04-28    0.225973\n",
      "dtype: float64}, {'ticker': 'JNJ', 'tc': 2025-03-30    0.193089\n",
      "2024-03-31    0.123586\n",
      "dtype: float64}]\n"
     ]
    }
   ],
   "execution_count": 95
  },
  {
   "metadata": {
    "ExecuteTime": {
     "end_time": "2025-07-11T15:34:08.573860Z",
     "start_time": "2025-07-11T15:34:08.568401Z"
    }
   },
   "cell_type": "code",
   "source": "len(comparisson)",
   "id": "74e34fb4dcc9bbc6",
   "outputs": [
    {
     "data": {
      "text/plain": [
       "5"
      ]
     },
     "execution_count": 92,
     "metadata": {},
     "output_type": "execute_result"
    }
   ],
   "execution_count": 92
  },
  {
   "metadata": {
    "ExecuteTime": {
     "end_time": "2025-07-11T15:38:36.919819Z",
     "start_time": "2025-07-11T15:38:36.884957Z"
    }
   },
   "cell_type": "code",
   "source": [
    "\n",
    "\n",
    "\n",
    "\n"
   ],
   "id": "27fd241996192918",
   "outputs": [
    {
     "name": "stdout",
     "output_type": "stream",
     "text": [
      "Full DataFrame:\n",
      "   ticker       date     value\n",
      "0    MSFT 2025-03-31  0.176977\n",
      "1    MSFT 2024-03-31  0.179145\n",
      "2    MSFT 2025-03-31  0.180330\n",
      "3    MSFT 2024-03-31  0.179259\n",
      "4     JNJ 2025-03-30  0.193089\n",
      "5     JNJ 2024-03-31  0.123586\n",
      "6      HD 2025-05-04  0.244166\n",
      "7      HD 2024-04-28  0.225973\n",
      "8   GOOGL 2025-03-31  0.173467\n",
      "9   GOOGL 2024-03-31  0.164330\n",
      "10   TSLA 2025-03-31  0.286927\n",
      "11   TSLA 2024-03-31  0.255826\n",
      "12     HD 2025-05-04  0.244166\n",
      "13     HD 2024-04-28  0.225973\n",
      "14    JNJ 2025-03-30  0.193089\n",
      "15    JNJ 2024-03-31  0.123586\n",
      "\n",
      "Average by Ticker:\n",
      "  ticker     value\n",
      "0  GOOGL  0.168898\n",
      "1     HD  0.235069\n",
      "2    JNJ  0.158338\n",
      "3   MSFT  0.178928\n",
      "4   TSLA  0.271377\n"
     ]
    },
    {
     "data": {
      "text/plain": [
       "(   ticker       date     value\n",
       " 0    MSFT 2025-03-31  0.176977\n",
       " 1    MSFT 2024-03-31  0.179145\n",
       " 2    MSFT 2025-03-31  0.180330\n",
       " 3    MSFT 2024-03-31  0.179259\n",
       " 4     JNJ 2025-03-30  0.193089\n",
       " 5     JNJ 2024-03-31  0.123586\n",
       " 6      HD 2025-05-04  0.244166\n",
       " 7      HD 2024-04-28  0.225973\n",
       " 8   GOOGL 2025-03-31  0.173467\n",
       " 9   GOOGL 2024-03-31  0.164330\n",
       " 10   TSLA 2025-03-31  0.286927\n",
       " 11   TSLA 2024-03-31  0.255826\n",
       " 12     HD 2025-05-04  0.244166\n",
       " 13     HD 2024-04-28  0.225973\n",
       " 14    JNJ 2025-03-30  0.193089\n",
       " 15    JNJ 2024-03-31  0.123586,\n",
       "   ticker     value\n",
       " 0  GOOGL  0.168898\n",
       " 1     HD  0.235069\n",
       " 2    JNJ  0.158338\n",
       " 3   MSFT  0.178928\n",
       " 4   TSLA  0.271377)"
      ]
     },
     "execution_count": 96,
     "metadata": {},
     "output_type": "execute_result"
    }
   ],
   "execution_count": 96
  },
  {
   "metadata": {
    "ExecuteTime": {
     "end_time": "2025-07-11T15:40:28.042207Z",
     "start_time": "2025-07-11T15:40:28.011448Z"
    }
   },
   "cell_type": "code",
   "source": "final_df, stats_per_symbol = convert_and_group(comparisson)",
   "id": "e2ee6220b6bad64a",
   "outputs": [
    {
     "name": "stdout",
     "output_type": "stream",
     "text": [
      "Full DataFrame:\n",
      "   ticker       date     value\n",
      "0    MSFT 2025-03-31  0.176977\n",
      "1    MSFT 2024-03-31  0.179145\n",
      "2    MSFT 2025-03-31  0.180330\n",
      "3    MSFT 2024-03-31  0.179259\n",
      "4     JNJ 2025-03-30  0.193089\n",
      "5     JNJ 2024-03-31  0.123586\n",
      "6      HD 2025-05-04  0.244166\n",
      "7      HD 2024-04-28  0.225973\n",
      "8   GOOGL 2025-03-31  0.173467\n",
      "9   GOOGL 2024-03-31  0.164330\n",
      "10   TSLA 2025-03-31  0.286927\n",
      "11   TSLA 2024-03-31  0.255826\n",
      "12     HD 2025-05-04  0.244166\n",
      "13     HD 2024-04-28  0.225973\n",
      "14    JNJ 2025-03-30  0.193089\n",
      "15    JNJ 2024-03-31  0.123586\n",
      "\n",
      "Average by Ticker:\n",
      "  ticker     value\n",
      "0  GOOGL  0.168898\n",
      "1     HD  0.235069\n",
      "2    JNJ  0.158338\n",
      "3   MSFT  0.178928\n",
      "4   TSLA  0.271377\n"
     ]
    }
   ],
   "execution_count": 99
  },
  {
   "metadata": {
    "ExecuteTime": {
     "end_time": "2025-07-11T15:40:38.659618Z",
     "start_time": "2025-07-11T15:40:38.642925Z"
    }
   },
   "cell_type": "code",
   "source": "print(final_df.head())",
   "id": "84ae619e81717cfe",
   "outputs": [
    {
     "name": "stdout",
     "output_type": "stream",
     "text": [
      "  ticker       date     value\n",
      "0   MSFT 2025-03-31  0.176977\n",
      "1   MSFT 2024-03-31  0.179145\n",
      "2   MSFT 2025-03-31  0.180330\n",
      "3   MSFT 2024-03-31  0.179259\n",
      "4    JNJ 2025-03-30  0.193089\n"
     ]
    }
   ],
   "execution_count": 101
  },
  {
   "metadata": {
    "ExecuteTime": {
     "end_time": "2025-07-11T15:42:13.641675Z",
     "start_time": "2025-07-11T15:42:13.629094Z"
    }
   },
   "cell_type": "code",
   "source": "",
   "id": "a5231a48e1ccd7f3",
   "outputs": [
    {
     "name": "stdout",
     "output_type": "stream",
     "text": [
      "  ticker     value\n",
      "4   TSLA  0.271377\n",
      "1     HD  0.235069\n",
      "3   MSFT  0.178928\n",
      "0  GOOGL  0.168898\n",
      "2    JNJ  0.158338\n"
     ]
    }
   ],
   "execution_count": 108
  },
  {
   "metadata": {},
   "cell_type": "code",
   "outputs": [],
   "execution_count": null,
   "source": "",
   "id": "3edd1363312ec81"
  }
 ],
 "metadata": {
  "kernelspec": {
   "display_name": "Python 3",
   "language": "python",
   "name": "python3"
  },
  "language_info": {
   "codemirror_mode": {
    "name": "ipython",
    "version": 2
   },
   "file_extension": ".py",
   "mimetype": "text/x-python",
   "name": "python",
   "nbconvert_exporter": "python",
   "pygments_lexer": "ipython2",
   "version": "2.7.6"
  }
 },
 "nbformat": 4,
 "nbformat_minor": 5
}
