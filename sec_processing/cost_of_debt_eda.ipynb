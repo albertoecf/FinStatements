{
 "cells": [
  {
   "cell_type": "code",
   "id": "initial_id",
   "metadata": {
    "collapsed": true,
    "ExecuteTime": {
     "end_time": "2025-07-12T17:31:31.360304Z",
     "start_time": "2025-07-12T17:31:30.760752Z"
    }
   },
   "source": "from sec_processing.utils import *\n",
   "outputs": [
    {
     "name": "stdout",
     "output_type": "stream",
     "text": [
      "17:31:31.278 Logging initialized with level INFO\n"
     ]
    }
   ],
   "execution_count": 1
  },
  {
   "metadata": {
    "ExecuteTime": {
     "end_time": "2025-07-12T18:12:15.446431Z",
     "start_time": "2025-07-12T18:12:04.881172Z"
    }
   },
   "cell_type": "code",
   "source": [
    "import numpy as np\n",
    "\n",
    "def calculate_cost_of_debt(ticker):\n",
    "    \"\"\"\n",
    "    Calculates after-tax cost of debt for a given ticker\n",
    "    using Income Statement and Balance Sheet data.\n",
    "\n",
    "    :param ticker: Stock ticker symbol (str)\n",
    "    :return: cost of debt (float) or np.nan if data missing\n",
    "    \"\"\"\n",
    "    # Fetch Income Statement and Balance Sheet\n",
    "    income_df = fetch_report_to_df(ticker, \"income_statement\")\n",
    "    balance_df = fetch_report_to_df(ticker, \"balance_sheet\")\n",
    "\n",
    "    try:\n",
    "        # Transpose for easier column selection (matching your pipeline)\n",
    "        income_df_t = income_df.transpose()\n",
    "        balance_df_t = balance_df.transpose()\n",
    "\n",
    "        # --- Extract Interest Expense ---\n",
    "        # Adjust column names as per your data schema\n",
    "        interest_expense_cols = [col for col in income_df_t.columns if \"interest\" in col.lower() and \"expense\" in col.lower()]\n",
    "        if not interest_expense_cols:\n",
    "            raise ValueError(\"Interest Expense column not found\")\n",
    "        interest_expense = income_df_t[interest_expense_cols[0]].mean()\n",
    "\n",
    "        # --- Extract Pre-Tax Income and Income Tax Expense ---\n",
    "        pretax_income_cols = [col for col in income_df_t.columns if \"pretax\" in col.lower() or \"pre-tax\" in col.lower()]\n",
    "        income_tax_expense_cols = [col for col in income_df_t.columns if \"income tax\" in col.lower() and \"expense\" in col.lower()]\n",
    "\n",
    "        if not pretax_income_cols or not income_tax_expense_cols:\n",
    "            raise ValueError(\"Pre-Tax Income or Income Tax Expense column not found\")\n",
    "\n",
    "        pretax_income = income_df_t[pretax_income_cols[0]].mean()\n",
    "        income_tax_expense = income_df_t[income_tax_expense_cols[0]].mean()\n",
    "\n",
    "        # --- Calculate Effective Tax Rate ---\n",
    "        tax_rate = income_tax_expense / pretax_income if pretax_income != 0 else 0\n",
    "\n",
    "        # --- Calculate Total Debt ---\n",
    "        # Adjust with your hybrid mapping + regex later\n",
    "        total_debt = 0\n",
    "        debt_cols = [col for col in balance_df_t.columns if \"debt\" in col.lower()]\n",
    "        if debt_cols:\n",
    "            total_debt = balance_df_t[debt_cols].sum(axis=1).mean()\n",
    "        else:\n",
    "            raise ValueError(\"Debt columns not found\")\n",
    "\n",
    "        # --- Final Cost of Debt Calculation ---\n",
    "        cost_of_debt = (interest_expense / total_debt) * (1 - tax_rate)\n",
    "\n",
    "        return cost_of_debt\n",
    "\n",
    "    except Exception as e:\n",
    "        print(f\"Could not calculate cost of debt for {ticker}: {e}\")\n",
    "        return np.nan\n",
    "\n",
    "# Example usage:\n",
    "tickers = [\"MSFT\", \"TSLA\", \"GOOGL\"]\n",
    "for ticker in tickers:\n",
    "    cod = calculate_cost_of_debt(ticker)\n",
    "    print(f\"{ticker} Cost of Debt: {cod:.4f}\")\n"
   ],
   "id": "fc5692bc2135039e",
   "outputs": [
    {
     "name": "stdout",
     "output_type": "stream",
     "text": [
      "Could not calculate cost of debt for MSFT: Interest Expense column not found\n",
      "MSFT Cost of Debt: nan\n",
      "Could not calculate cost of debt for TSLA: 'NoneType' object has no attribute 'lower'\n",
      "TSLA Cost of Debt: nan\n",
      "Could not calculate cost of debt for GOOGL: Interest Expense column not found\n",
      "GOOGL Cost of Debt: nan\n"
     ]
    }
   ],
   "execution_count": 4
  },
  {
   "metadata": {},
   "cell_type": "code",
   "outputs": [],
   "execution_count": null,
   "source": "",
   "id": "eed65f074a172229"
  }
 ],
 "metadata": {
  "kernelspec": {
   "display_name": "Python 3",
   "language": "python",
   "name": "python3"
  },
  "language_info": {
   "codemirror_mode": {
    "name": "ipython",
    "version": 2
   },
   "file_extension": ".py",
   "mimetype": "text/x-python",
   "name": "python",
   "nbconvert_exporter": "python",
   "pygments_lexer": "ipython2",
   "version": "2.7.6"
  }
 },
 "nbformat": 4,
 "nbformat_minor": 5
}
