{
 "cells": [
  {
   "cell_type": "code",
   "id": "initial_id",
   "metadata": {
    "collapsed": true,
    "ExecuteTime": {
     "end_time": "2025-07-11T07:03:19.576384Z",
     "start_time": "2025-07-11T07:03:19.566960Z"
    }
   },
   "source": [
    "import pandas as pd\n",
    "import requests\n",
    "import settings"
   ],
   "outputs": [],
   "execution_count": 10
  },
  {
   "metadata": {
    "ExecuteTime": {
     "end_time": "2025-07-11T07:03:58.243813Z",
     "start_time": "2025-07-11T07:03:58.239142Z"
    }
   },
   "cell_type": "code",
   "source": [
    "headers = {\"User-Agent\": settings.email_address}\n",
    "ticker = \"TSLA\""
   ],
   "id": "1c73a6e4a1c65fda",
   "outputs": [],
   "execution_count": 15
  },
  {
   "metadata": {
    "ExecuteTime": {
     "end_time": "2025-07-11T06:37:57.112054Z",
     "start_time": "2025-07-11T06:37:57.099965Z"
    }
   },
   "cell_type": "code",
   "source": [
    "def cik_matching_ticker(ticker, headers=headers):\n",
    "    ticker = ticker.upper().replace(\".\", \"_\")\n",
    "    ticker_json = requests.get(\"https://www.sec.gov/files/company_tickers.json\", headers=headers).json()\n",
    "    for company in ticker_json.values():\n",
    "        if company[\"ticker\"] == ticker:\n",
    "            cik = str(company[\"cik_str\"]).zfill(10)\n",
    "            return cik\n",
    "    raise ValueError(f'Ticker: {ticker} not found\".format(ticker=ticker)')\n",
    "\n"
   ],
   "id": "e2cdbf1e3049f8ee",
   "outputs": [],
   "execution_count": 6
  },
  {
   "metadata": {
    "ExecuteTime": {
     "end_time": "2025-07-11T06:37:57.828717Z",
     "start_time": "2025-07-11T06:37:57.563544Z"
    }
   },
   "cell_type": "code",
   "source": [
    "cik = cik_matching_ticker('tsla')\n",
    "print(cik)"
   ],
   "id": "ed343cda01cf640",
   "outputs": [
    {
     "name": "stdout",
     "output_type": "stream",
     "text": [
      "0001318605\n"
     ]
    }
   ],
   "execution_count": 7
  },
  {
   "metadata": {
    "ExecuteTime": {
     "end_time": "2025-07-11T07:05:59.388398Z",
     "start_time": "2025-07-11T07:05:59.383201Z"
    }
   },
   "cell_type": "code",
   "source": [
    "def get_submission_data_for_ticker(ticker, headers=headers, only_fillings_df=False):\n",
    "    cik = cik_matching_ticker(ticker, headers=headers)\n",
    "    headers = headers.copy()\n",
    "    url = f\"https://data.sec.gov/submissions/CIK{cik}.json\"\n",
    "    company_json = requests.get(url, headers=headers).json()\n",
    "    if only_fillings_df:\n",
    "        return pd.DataFrame(company_json[\"filings\"][\"recent\"])\n",
    "    else:\n",
    "        return company_json\n"
   ],
   "id": "1d2d8cb4faf6c64f",
   "outputs": [],
   "execution_count": 21
  },
  {
   "metadata": {
    "ExecuteTime": {
     "end_time": "2025-07-11T07:06:00.506806Z",
     "start_time": "2025-07-11T07:05:59.880268Z"
    }
   },
   "cell_type": "code",
   "source": "data = get_submission_data_for_ticker(ticker, only_fillings_df=True)",
   "id": "172242af20b28093",
   "outputs": [],
   "execution_count": 22
  },
  {
   "metadata": {
    "ExecuteTime": {
     "end_time": "2025-07-11T07:06:03.459628Z",
     "start_time": "2025-07-11T07:06:03.446890Z"
    }
   },
   "cell_type": "code",
   "source": "data.keys()",
   "id": "199f52ce39bcac21",
   "outputs": [
    {
     "data": {
      "text/plain": [
       "Index(['accessionNumber', 'filingDate', 'reportDate', 'acceptanceDateTime',\n",
       "       'act', 'form', 'fileNumber', 'filmNumber', 'items', 'core_type', 'size',\n",
       "       'isXBRL', 'isInlineXBRL', 'primaryDocument', 'primaryDocDescription'],\n",
       "      dtype='object')"
      ]
     },
     "execution_count": 23,
     "metadata": {},
     "output_type": "execute_result"
    }
   ],
   "execution_count": 23
  },
  {
   "metadata": {
    "ExecuteTime": {
     "end_time": "2025-07-11T07:12:40.699776Z",
     "start_time": "2025-07-11T07:12:40.659891Z"
    }
   },
   "cell_type": "code",
   "source": [
    "def get_filtered_filings(ticker, form_type='10-K', just_accession_numbers=False, headers=headers):\n",
    "    company_filings_df = get_submission_data_for_ticker(ticker, only_fillings_df=True, headers=headers)\n",
    "    if form_type is not None:\n",
    "        df = company_filings_df[company_filings_df[\"form\"] == form_type]\n",
    "        if just_accession_numbers:\n",
    "            accession_df = df.set_index('reportDate',inplace=True)['accessionNumber']\n",
    "            return accession_df\n",
    "        else:\n",
    "            return df\n",
    "    else:\n",
    "        raise ValueError(\"Must provide form_type\")\n",
    "\n",
    "\n"
   ],
   "id": "f922b229e82252fc",
   "outputs": [],
   "execution_count": 25
  },
  {
   "metadata": {
    "ExecuteTime": {
     "end_time": "2025-07-11T07:13:35.838126Z",
     "start_time": "2025-07-11T07:13:33.061005Z"
    }
   },
   "cell_type": "code",
   "source": "filings = get_filtered_filings(ticker, form_type='10-K')",
   "id": "5dd7a062d0addb2",
   "outputs": [],
   "execution_count": 26
  },
  {
   "metadata": {
    "ExecuteTime": {
     "end_time": "2025-07-11T07:13:35.892317Z",
     "start_time": "2025-07-11T07:13:35.879187Z"
    }
   },
   "cell_type": "code",
   "source": "filings",
   "id": "4fa65156d9b2f025",
   "outputs": [
    {
     "data": {
      "text/plain": [
       "          accessionNumber  filingDate  reportDate        acceptanceDateTime  \\\n",
       "56   0001628280-25-003063  2025-01-30  2024-12-31  2025-01-30T01:42:33.000Z   \n",
       "170  0001628280-24-002390  2024-01-29  2023-12-31  2024-01-27T02:00:20.000Z   \n",
       "271  0000950170-23-001409  2023-01-31  2022-12-31  2023-01-31T02:29:15.000Z   \n",
       "371  0000950170-22-000796  2022-02-07  2021-12-31  2022-02-05T01:11:27.000Z   \n",
       "503  0001564590-21-004599  2021-02-08  2020-12-31  2021-02-08T12:27:23.000Z   \n",
       "641  0001564590-20-004475  2020-02-13  2019-12-31  2020-02-13T12:12:18.000Z   \n",
       "794  0001564590-19-003165  2019-02-19  2018-12-31  2019-02-19T11:10:16.000Z   \n",
       "901  0001564590-18-002956  2018-02-23  2017-12-31  2018-02-23T11:07:43.000Z   \n",
       "\n",
       "    act  form fileNumber filmNumber items core_type      size  isXBRL  \\\n",
       "56   34  10-K  001-34756   25570807            XBRL  15788647       1   \n",
       "170  34  10-K  001-34756   24569853            XBRL  15527801       1   \n",
       "271  34  10-K  001-34756   23570030            XBRL  31445171       1   \n",
       "371  34  10-K  001-34756   22595227            XBRL  29316024       1   \n",
       "503  34  10-K  001-34756   21598537            XBRL  32860345       1   \n",
       "641  34  10-K  001-34756   20606921            XBRL  29961626       1   \n",
       "794  34  10-K  001-34756   19613254            10-K  30826751       1   \n",
       "901  34  10-K  001-34756   18634585            10-K  25498533       1   \n",
       "\n",
       "     isInlineXBRL        primaryDocument primaryDocDescription  \n",
       "56              1      tsla-20241231.htm                  10-K  \n",
       "170             1      tsla-20231231.htm                  10-K  \n",
       "271             1      tsla-20221231.htm                  10-K  \n",
       "371             1      tsla-20211231.htm                  10-K  \n",
       "503             1  tsla-10k_20201231.htm                  10-K  \n",
       "641             1  tsla-10k_20191231.htm                  10-K  \n",
       "794             0  tsla-10k_20181231.htm                  10-K  \n",
       "901             0  tsla-10k_20171231.htm                  10-K  "
      ],
      "text/html": [
       "<div>\n",
       "<style scoped>\n",
       "    .dataframe tbody tr th:only-of-type {\n",
       "        vertical-align: middle;\n",
       "    }\n",
       "\n",
       "    .dataframe tbody tr th {\n",
       "        vertical-align: top;\n",
       "    }\n",
       "\n",
       "    .dataframe thead th {\n",
       "        text-align: right;\n",
       "    }\n",
       "</style>\n",
       "<table border=\"1\" class=\"dataframe\">\n",
       "  <thead>\n",
       "    <tr style=\"text-align: right;\">\n",
       "      <th></th>\n",
       "      <th>accessionNumber</th>\n",
       "      <th>filingDate</th>\n",
       "      <th>reportDate</th>\n",
       "      <th>acceptanceDateTime</th>\n",
       "      <th>act</th>\n",
       "      <th>form</th>\n",
       "      <th>fileNumber</th>\n",
       "      <th>filmNumber</th>\n",
       "      <th>items</th>\n",
       "      <th>core_type</th>\n",
       "      <th>size</th>\n",
       "      <th>isXBRL</th>\n",
       "      <th>isInlineXBRL</th>\n",
       "      <th>primaryDocument</th>\n",
       "      <th>primaryDocDescription</th>\n",
       "    </tr>\n",
       "  </thead>\n",
       "  <tbody>\n",
       "    <tr>\n",
       "      <th>56</th>\n",
       "      <td>0001628280-25-003063</td>\n",
       "      <td>2025-01-30</td>\n",
       "      <td>2024-12-31</td>\n",
       "      <td>2025-01-30T01:42:33.000Z</td>\n",
       "      <td>34</td>\n",
       "      <td>10-K</td>\n",
       "      <td>001-34756</td>\n",
       "      <td>25570807</td>\n",
       "      <td></td>\n",
       "      <td>XBRL</td>\n",
       "      <td>15788647</td>\n",
       "      <td>1</td>\n",
       "      <td>1</td>\n",
       "      <td>tsla-20241231.htm</td>\n",
       "      <td>10-K</td>\n",
       "    </tr>\n",
       "    <tr>\n",
       "      <th>170</th>\n",
       "      <td>0001628280-24-002390</td>\n",
       "      <td>2024-01-29</td>\n",
       "      <td>2023-12-31</td>\n",
       "      <td>2024-01-27T02:00:20.000Z</td>\n",
       "      <td>34</td>\n",
       "      <td>10-K</td>\n",
       "      <td>001-34756</td>\n",
       "      <td>24569853</td>\n",
       "      <td></td>\n",
       "      <td>XBRL</td>\n",
       "      <td>15527801</td>\n",
       "      <td>1</td>\n",
       "      <td>1</td>\n",
       "      <td>tsla-20231231.htm</td>\n",
       "      <td>10-K</td>\n",
       "    </tr>\n",
       "    <tr>\n",
       "      <th>271</th>\n",
       "      <td>0000950170-23-001409</td>\n",
       "      <td>2023-01-31</td>\n",
       "      <td>2022-12-31</td>\n",
       "      <td>2023-01-31T02:29:15.000Z</td>\n",
       "      <td>34</td>\n",
       "      <td>10-K</td>\n",
       "      <td>001-34756</td>\n",
       "      <td>23570030</td>\n",
       "      <td></td>\n",
       "      <td>XBRL</td>\n",
       "      <td>31445171</td>\n",
       "      <td>1</td>\n",
       "      <td>1</td>\n",
       "      <td>tsla-20221231.htm</td>\n",
       "      <td>10-K</td>\n",
       "    </tr>\n",
       "    <tr>\n",
       "      <th>371</th>\n",
       "      <td>0000950170-22-000796</td>\n",
       "      <td>2022-02-07</td>\n",
       "      <td>2021-12-31</td>\n",
       "      <td>2022-02-05T01:11:27.000Z</td>\n",
       "      <td>34</td>\n",
       "      <td>10-K</td>\n",
       "      <td>001-34756</td>\n",
       "      <td>22595227</td>\n",
       "      <td></td>\n",
       "      <td>XBRL</td>\n",
       "      <td>29316024</td>\n",
       "      <td>1</td>\n",
       "      <td>1</td>\n",
       "      <td>tsla-20211231.htm</td>\n",
       "      <td>10-K</td>\n",
       "    </tr>\n",
       "    <tr>\n",
       "      <th>503</th>\n",
       "      <td>0001564590-21-004599</td>\n",
       "      <td>2021-02-08</td>\n",
       "      <td>2020-12-31</td>\n",
       "      <td>2021-02-08T12:27:23.000Z</td>\n",
       "      <td>34</td>\n",
       "      <td>10-K</td>\n",
       "      <td>001-34756</td>\n",
       "      <td>21598537</td>\n",
       "      <td></td>\n",
       "      <td>XBRL</td>\n",
       "      <td>32860345</td>\n",
       "      <td>1</td>\n",
       "      <td>1</td>\n",
       "      <td>tsla-10k_20201231.htm</td>\n",
       "      <td>10-K</td>\n",
       "    </tr>\n",
       "    <tr>\n",
       "      <th>641</th>\n",
       "      <td>0001564590-20-004475</td>\n",
       "      <td>2020-02-13</td>\n",
       "      <td>2019-12-31</td>\n",
       "      <td>2020-02-13T12:12:18.000Z</td>\n",
       "      <td>34</td>\n",
       "      <td>10-K</td>\n",
       "      <td>001-34756</td>\n",
       "      <td>20606921</td>\n",
       "      <td></td>\n",
       "      <td>XBRL</td>\n",
       "      <td>29961626</td>\n",
       "      <td>1</td>\n",
       "      <td>1</td>\n",
       "      <td>tsla-10k_20191231.htm</td>\n",
       "      <td>10-K</td>\n",
       "    </tr>\n",
       "    <tr>\n",
       "      <th>794</th>\n",
       "      <td>0001564590-19-003165</td>\n",
       "      <td>2019-02-19</td>\n",
       "      <td>2018-12-31</td>\n",
       "      <td>2019-02-19T11:10:16.000Z</td>\n",
       "      <td>34</td>\n",
       "      <td>10-K</td>\n",
       "      <td>001-34756</td>\n",
       "      <td>19613254</td>\n",
       "      <td></td>\n",
       "      <td>10-K</td>\n",
       "      <td>30826751</td>\n",
       "      <td>1</td>\n",
       "      <td>0</td>\n",
       "      <td>tsla-10k_20181231.htm</td>\n",
       "      <td>10-K</td>\n",
       "    </tr>\n",
       "    <tr>\n",
       "      <th>901</th>\n",
       "      <td>0001564590-18-002956</td>\n",
       "      <td>2018-02-23</td>\n",
       "      <td>2017-12-31</td>\n",
       "      <td>2018-02-23T11:07:43.000Z</td>\n",
       "      <td>34</td>\n",
       "      <td>10-K</td>\n",
       "      <td>001-34756</td>\n",
       "      <td>18634585</td>\n",
       "      <td></td>\n",
       "      <td>10-K</td>\n",
       "      <td>25498533</td>\n",
       "      <td>1</td>\n",
       "      <td>0</td>\n",
       "      <td>tsla-10k_20171231.htm</td>\n",
       "      <td>10-K</td>\n",
       "    </tr>\n",
       "  </tbody>\n",
       "</table>\n",
       "</div>"
      ]
     },
     "execution_count": 27,
     "metadata": {},
     "output_type": "execute_result"
    }
   ],
   "execution_count": 27
  },
  {
   "metadata": {},
   "cell_type": "code",
   "outputs": [],
   "execution_count": null,
   "source": "",
   "id": "4da92f7160a0a254"
  }
 ],
 "metadata": {
  "kernelspec": {
   "display_name": "Python 3",
   "language": "python",
   "name": "python3"
  },
  "language_info": {
   "codemirror_mode": {
    "name": "ipython",
    "version": 2
   },
   "file_extension": ".py",
   "mimetype": "text/x-python",
   "name": "python",
   "nbconvert_exporter": "python",
   "pygments_lexer": "ipython2",
   "version": "2.7.6"
  }
 },
 "nbformat": 4,
 "nbformat_minor": 5
}
